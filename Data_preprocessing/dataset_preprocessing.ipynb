{
 "cells": [
  {
   "cell_type": "code",
   "execution_count": 1,
   "metadata": {},
   "outputs": [
    {
     "data": {
      "text/plain": [
       "'NVIDIA GeForce GTX 1660 SUPER'"
      ]
     },
     "execution_count": 1,
     "metadata": {},
     "output_type": "execute_result"
    }
   ],
   "source": [
    "import torch\n",
    "torch.cuda.is_available()\n",
    "torch.cuda.device_count()\n",
    "torch.cuda.current_device()\n",
    "torch.cuda.device(0)\n",
    "torch.cuda.get_device_name(0)"
   ]
  },
  {
   "cell_type": "code",
   "execution_count": 2,
   "metadata": {},
   "outputs": [],
   "source": [
    "dataset_file_path = 'C:/Users/Patrickn/Jupyter_notebooks/Graduation/Dataset/data'"
   ]
  },
  {
   "cell_type": "markdown",
   "metadata": {},
   "source": [
    "# Choose certain audio file"
   ]
  },
  {
   "cell_type": "code",
   "execution_count": 3,
   "metadata": {},
   "outputs": [
    {
     "name": "stdout",
     "output_type": "stream",
     "text": [
      "Saved last 50000 audio filenames to selected_audio_files.txt.\n",
      "Successfully copied 50000 audio files to C:/Users/Patrickn/Jupyter_notebooks/Graduation/Data_preprocessing/all_data/8/.\n"
     ]
    }
   ],
   "source": [
    "import os\n",
    "import shutil\n",
    "\n",
    "destination_dir = 'C:/Users/Patrickn/Jupyter_notebooks/Graduation/Data_preprocessing/all_data/8/'\n",
    "os.makedirs(destination_dir, exist_ok=True)\n",
    "\n",
    "audio_files = sorted(f for f in os.listdir(dataset_file_path) if f.lower().endswith(('.mp3', '.wav', '.flac', '.ogg', '.aac')))\n",
    "\n",
    "if len(audio_files) < 50000:\n",
    "    raise ValueError(f\"Not enough audio files to select from. Found only {len(audio_files)} files.\")\n",
    "\n",
    "selected_files = audio_files[350000:]\n",
    "\n",
    "# Copy the selected files to the destination directory\n",
    "for file in selected_files:\n",
    "    src_path = os.path.join(dataset_file_path, file)\n",
    "    dest_path = os.path.join(destination_dir, file)\n",
    "    shutil.copy2(src_path, dest_path)  # copy2 preserves metadata\n",
    "\n",
    "# Save selected filenames to a text file\n",
    "selected_files_txt = \"selected_audio_files.txt\"\n",
    "with open(selected_files_txt, \"w\") as f:\n",
    "    for file in selected_files:\n",
    "        f.write(file + \"\\n\")\n",
    "\n",
    "print(f\"Saved last 50000 audio filenames to {selected_files_txt}.\")\n",
    "print(f\"Successfully copied 50000 audio files to {destination_dir}.\")"
   ]
  },
  {
   "cell_type": "code",
   "execution_count": 4,
   "metadata": {},
   "outputs": [
    {
     "name": "stdout",
     "output_type": "stream",
     "text": [
      "     audio_file                                      text gender\n",
      "0  D6x81u_1.mp3     خليني ابدا الفيديو ده وانا بقول ان من   male\n",
      "1  6f5WmH_2.mp3  ااا ملاحظتي الشخصيه استنتجت ان الستات ما   male\n",
      "2  abSOwC_3.mp3                             بقاش عندها دم   male\n",
      "3  qqiArB_4.mp3      وان الستات بداوا يستغلوا الرجاله وان   male\n",
      "4  afzWCf_5.mp3                                الستات دول   male\n"
     ]
    }
   ],
   "source": [
    "import pandas as pd\n",
    "\n",
    "large_csv_file = \"C:/Users/Patrickn/Jupyter_notebooks/Graduation/Dataset/index.csv\"\n",
    "df = pd.read_csv(large_csv_file)\n",
    "\n",
    "# Print the first 5 rows (for large files)\n",
    "print(df.head())"
   ]
  },
  {
   "cell_type": "markdown",
   "metadata": {},
   "source": [
    "# get their text from csv file"
   ]
  },
  {
   "cell_type": "code",
   "execution_count": 5,
   "metadata": {},
   "outputs": [
    {
     "name": "stdout",
     "output_type": "stream",
     "text": [
      "Saved filtered metadata of selected audio files to 8.csv\n"
     ]
    }
   ],
   "source": [
    "import pandas as pd\n",
    "\n",
    "# Read the selected audio filenames from the text file\n",
    "selected_files_txt = \"selected_audio_files.txt\"\n",
    "with open(selected_files_txt, \"r\") as f:\n",
    "    selected_files = {line.strip() for line in f}  # Store in a set for quick lookup\n",
    "\n",
    "# Filter the DataFrame to keep only the selected audio files\n",
    "filtered_df = df[df[\"audio_file\"].isin(selected_files)]\n",
    "\n",
    "# Save the filtered DataFrame to a new CSV\n",
    "filtered_df.to_csv(\"8.csv\", index=False)\n",
    "\n",
    "print(f\"Saved filtered metadata of selected audio files to 8.csv\")"
   ]
  },
  {
   "cell_type": "code",
   "execution_count": 7,
   "metadata": {},
   "outputs": [
    {
     "name": "stdout",
     "output_type": "stream",
     "text": [
      "      audio_file                                    text gender\n",
      "0  sqduLw_20.mp3  دائما للاسوا من الاخرين السبب اللي انا   male\n",
      "1  whpAhq_21.mp3    لسه عامله دلوقتي حالا وحده من هوايات   male\n",
      "2  w1Ghbl_23.mp3   السوشيال ميديا وتحليل السلوكيات الناس   male\n",
      "3  yQWTe1_25.mp3  والمتابعين عشان افهم لان ده شغلنا احنا   male\n",
      "4  ygqV8K_36.mp3     بتابعهم مثلا هو شخصيا عنده مشكله مع   male\n"
     ]
    }
   ],
   "source": [
    "import pandas as pd\n",
    "\n",
    "sample_csv_file = \"C:/Users/Patrickn/Jupyter_notebooks/Graduation/Data_preprocessing/all_csv/8.csv\"\n",
    "df = pd.read_csv(sample_csv_file)\n",
    "\n",
    "# Print the first 5 rows (for large files)\n",
    "print(df.head())"
   ]
  },
  {
   "cell_type": "code",
   "execution_count": null,
   "metadata": {},
   "outputs": [],
   "source": []
  }
 ],
 "metadata": {
  "kernelspec": {
   "display_name": "tf_pyT",
   "language": "python",
   "name": "python3"
  },
  "language_info": {
   "codemirror_mode": {
    "name": "ipython",
    "version": 3
   },
   "file_extension": ".py",
   "mimetype": "text/x-python",
   "name": "python",
   "nbconvert_exporter": "python",
   "pygments_lexer": "ipython3",
   "version": "3.12.3"
  }
 },
 "nbformat": 4,
 "nbformat_minor": 2
}
