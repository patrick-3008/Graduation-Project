{
 "cells": [
  {
   "cell_type": "code",
   "execution_count": 11,
   "metadata": {},
   "outputs": [
    {
     "data": {
      "text/plain": [
       "'NVIDIA GeForce GTX 1660 SUPER'"
      ]
     },
     "execution_count": 11,
     "metadata": {},
     "output_type": "execute_result"
    }
   ],
   "source": [
    "import torch\n",
    "torch.cuda.is_available()\n",
    "torch.cuda.device_count()\n",
    "torch.cuda.current_device()\n",
    "torch.cuda.device(0)\n",
    "torch.cuda.get_device_name(0)"
   ]
  },
  {
   "cell_type": "code",
   "execution_count": 12,
   "metadata": {},
   "outputs": [],
   "source": [
    "dataset_file_path = 'C:/Users/Patrickn/Jupyter_notebooks/Graduation/Dataset/data'"
   ]
  },
  {
   "cell_type": "markdown",
   "metadata": {},
   "source": [
    "# randomly choose 5000 audio file"
   ]
  },
  {
   "cell_type": "code",
   "execution_count": null,
   "metadata": {},
   "outputs": [
    {
     "name": "stdout",
     "output_type": "stream",
     "text": [
      "Saved 5000 randomly selected audio filenames to selected_audio_files.txt.\n",
      "Successfully copied 5000 audio files to C:/Users/Patrickn/Jupyter_notebooks/Graduation/Data_preprocessing/sample_data.\n"
     ]
    }
   ],
   "source": [
    "import os\n",
    "import random\n",
    "import shutil\n",
    "\n",
    "destination_dir = 'C:/Users/Patrickn/Jupyter_notebooks/Graduation/Data_preprocessing/sample_data'\n",
    "os.makedirs(destination_dir, exist_ok=True)\n",
    "\n",
    "audio_files = [f for f in os.listdir(dataset_file_path) if f.lower().endswith(('.mp3', '.wav', '.flac', '.ogg', '.aac'))]\n",
    "\n",
    "# Ensure there are enough files to sample from\n",
    "if len(audio_files) < 5000:\n",
    "    raise ValueError(f\"Not enough audio files to sample from. Found only {len(audio_files)} files.\")\n",
    "\n",
    "# Randomly select 5000 files\n",
    "selected_files = random.sample(audio_files, 5000)\n",
    "\n",
    "# Copy the selected files to the destination directory\n",
    "for file in selected_files:\n",
    "    src_path = os.path.join(dataset_file_path, file)\n",
    "    dest_path = os.path.join(destination_dir, file)\n",
    "    shutil.copy2(src_path, dest_path)  # copy2 preserves metadata\n",
    "\n",
    "# Save selected filenames to a text file\n",
    "selected_files_txt = \"selected_audio_files.txt\"\n",
    "with open(selected_files_txt, \"w\") as f:\n",
    "    for file in selected_files:\n",
    "        f.write(file + \"\\n\")\n",
    "\n",
    "print(f\"Saved 5000 randomly selected audio filenames to {selected_files_txt}.\")\n",
    "\n",
    "print(f\"Successfully copied 5000 audio files to {destination_dir}.\")"
   ]
  },
  {
   "cell_type": "code",
   "execution_count": 16,
   "metadata": {},
   "outputs": [
    {
     "name": "stdout",
     "output_type": "stream",
     "text": [
      "     audio_file                                      text gender\n",
      "0  D6x81u_1.mp3     خليني ابدا الفيديو ده وانا بقول ان من   male\n",
      "1  6f5WmH_2.mp3  ااا ملاحظتي الشخصيه استنتجت ان الستات ما   male\n",
      "2  abSOwC_3.mp3                             بقاش عندها دم   male\n",
      "3  qqiArB_4.mp3      وان الستات بداوا يستغلوا الرجاله وان   male\n",
      "4  afzWCf_5.mp3                                الستات دول   male\n"
     ]
    }
   ],
   "source": [
    "import pandas as pd\n",
    "\n",
    "large_csv_file = \"C:/Users/Patrickn/Jupyter_notebooks/Graduation/Dataset/index.csv\"\n",
    "df = pd.read_csv(large_csv_file)\n",
    "\n",
    "# Print the first 5 rows (for large files)\n",
    "print(df.head())"
   ]
  },
  {
   "cell_type": "markdown",
   "metadata": {},
   "source": [
    "# get their text from csv file"
   ]
  },
  {
   "cell_type": "code",
   "execution_count": 15,
   "metadata": {},
   "outputs": [
    {
     "name": "stdout",
     "output_type": "stream",
     "text": [
      "Saved filtered metadata of selected audio files to final_selected_audio_data.csv\n"
     ]
    }
   ],
   "source": [
    "import pandas as pd\n",
    "\n",
    "# Read the selected audio filenames from the text file\n",
    "selected_files_txt = \"selected_audio_files.txt\"\n",
    "with open(selected_files_txt, \"r\") as f:\n",
    "    selected_files = {line.strip() for line in f}  # Store in a set for quick lookup\n",
    "\n",
    "# Filter the DataFrame to keep only the selected audio files\n",
    "filtered_df = df[df[\"audio_file\"].isin(selected_files)]\n",
    "\n",
    "# Save the filtered DataFrame to a new CSV\n",
    "filtered_df.to_csv(\"final_selected_audio_data.csv\", index=False)\n",
    "\n",
    "print(f\"Saved filtered metadata of selected audio files to final_selected_audio_data.csv\")"
   ]
  },
  {
   "cell_type": "code",
   "execution_count": 17,
   "metadata": {},
   "outputs": [
    {
     "name": "stdout",
     "output_type": "stream",
     "text": [
      "       audio_file                                               text gender\n",
      "0  n6ezaO_130.mp3                                               فعلا   male\n",
      "1  DLDw5D_222.mp3            الاسبرين لان استخدامه عمال على بطال مضر   male\n",
      "2  L5uhyH_116.mp3  لأنها زي خلطة لمواصفات العربية\\nلازم كل الفرق ...   male\n",
      "3  d9cRpx_164.mp3       الفراغ دا هيتملي بالهوا\\nاللي مخلوط بالبنزين   male\n",
      "4  ZYavep_280.mp3                                تلاقي نفسك كداهو...   male\n"
     ]
    }
   ],
   "source": [
    "import pandas as pd\n",
    "\n",
    "sample_csv_file = \"C:/Users/Patrickn/Jupyter_notebooks/Graduation/Data_preprocessing/final_selected_audio_data.csv\"\n",
    "df = pd.read_csv(sample_csv_file)\n",
    "\n",
    "# Print the first 5 rows (for large files)\n",
    "print(df.head())"
   ]
  },
  {
   "cell_type": "code",
   "execution_count": null,
   "metadata": {},
   "outputs": [],
   "source": []
  }
 ],
 "metadata": {
  "kernelspec": {
   "display_name": "tf_pyT",
   "language": "python",
   "name": "python3"
  },
  "language_info": {
   "codemirror_mode": {
    "name": "ipython",
    "version": 3
   },
   "file_extension": ".py",
   "mimetype": "text/x-python",
   "name": "python",
   "nbconvert_exporter": "python",
   "pygments_lexer": "ipython3",
   "version": "3.12.3"
  }
 },
 "nbformat": 4,
 "nbformat_minor": 2
}
