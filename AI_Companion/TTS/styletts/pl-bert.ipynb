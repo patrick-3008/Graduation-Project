{
 "cells": [
  {
   "cell_type": "code",
   "execution_count": 1,
   "id": "97be80b7",
   "metadata": {},
   "outputs": [
    {
     "name": "stdout",
     "output_type": "stream",
     "text": [
      "C:\\Users\\Patrickn\\Jupyter_notebooks\\Graduation\\AI_Companion\\TTS\\styletts\n"
     ]
    },
    {
     "name": "stderr",
     "output_type": "stream",
     "text": [
      "c:\\Users\\Patrickn\\.conda\\envs\\tf_pyT\\Lib\\site-packages\\IPython\\core\\magics\\osm.py:417: UserWarning: This is now an optional IPython functionality, setting dhist requires you to install the `pickleshare` library.\n",
      "  self.shell.db['dhist'] = compress_dhist(dhist)[-100:]\n"
     ]
    }
   ],
   "source": [
    "%cd \"C:/Users/Patrickn/Jupyter_notebooks/Graduation/AI_Companion/TTS/styletts\""
   ]
  },
  {
   "cell_type": "code",
   "execution_count": 2,
   "id": "3562c314",
   "metadata": {},
   "outputs": [
    {
     "name": "stderr",
     "output_type": "stream",
     "text": [
      "Cloning into 'pl-bert'...\n",
      "Filtering content:  66% (2/3)\n",
      "Filtering content: 100% (3/3)\n",
      "Filtering content: 100% (3/3), 814.75 MiB | 1.65 MiB/s\n",
      "Filtering content: 100% (3/3), 814.75 MiB | 1.38 MiB/s, done.\n"
     ]
    }
   ],
   "source": [
    "!git clone https://huggingface.co/fadi77/pl-bert"
   ]
  },
  {
   "cell_type": "code",
   "execution_count": 15,
   "id": "544efce1",
   "metadata": {},
   "outputs": [
    {
     "name": "stdout",
     "output_type": "stream",
     "text": [
      " Volume in drive C has no label.\n",
      " Volume Serial Number is DAB6-B0D3\n",
      "\n",
      " Directory of C:\\Users\\Patrickn\\Jupyter_notebooks\\Graduation\\AI_Companion\\TTS\\styletts\n",
      "\n",
      "05/18/2025  06:18 PM    <DIR>          .\n",
      "05/18/2025  06:17 PM    <DIR>          ..\n",
      "05/18/2025  06:18 PM    <DIR>          pl-bert\n",
      "05/18/2025  06:48 PM             1,906 pl-bert.ipynb\n",
      "05/18/2025  06:17 PM            36,330 styletts.ipynb\n",
      "05/18/2025  01:57 PM    <DIR>          StyleTTS2\n",
      "               2 File(s)         38,236 bytes\n",
      "               4 Dir(s)  326,338,904,064 bytes free\n"
     ]
    }
   ],
   "source": [
    "%ls"
   ]
  },
  {
   "cell_type": "code",
   "execution_count": 17,
   "id": "e382b864",
   "metadata": {},
   "outputs": [
    {
     "name": "stderr",
     "output_type": "stream",
     "text": [
      "C:\\Users\\Patrickn\\AppData\\Local\\Temp\\ipykernel_5312\\2601481810.py:26: FutureWarning: You are using `torch.load` with `weights_only=False` (the current default value), which uses the default pickle module implicitly. It is possible to construct malicious pickle data which will execute arbitrary code during unpickling (See https://github.com/pytorch/pytorch/blob/main/SECURITY.md#untrusted-models for more details). In a future release, the default value for `weights_only` will be flipped to `True`. This limits the functions that could be executed during unpickling. Arbitrary objects will no longer be allowed to be loaded via this mode unless they are explicitly allowlisted by the user via `torch.serialization.add_safe_globals`. We recommend you start setting `weights_only=True` for any use case where you don't have full control of the loaded file. Please open an issue on GitHub for any issues related to this experimental feature.\n",
      "  checkpoint = torch.load(model_path, map_location='cpu')\n"
     ]
    }
   ],
   "source": [
    "import os\n",
    "import yaml\n",
    "import torch\n",
    "from transformers import AlbertConfig, AlbertModel\n",
    "\n",
    "from StyleTTS2.char_indexer import BertCharacterIndexer\n",
    "\n",
    "symbols = BertCharacterIndexer.symbols\n",
    "\n",
    "from huggingface_hub import hf_hub_download\n",
    "\n",
    "class CustomAlbert(AlbertModel):\n",
    "    def forward(self, *args, **kwargs):\n",
    "        # Call the original forward method\n",
    "        outputs = super().forward(*args, **kwargs)\n",
    "\n",
    "        # Only return the last_hidden_state\n",
    "        return outputs.last_hidden_state\n",
    "    \n",
    "def _load_plbert(config_path, model_path):\n",
    "    plbert_config = yaml.safe_load(open(config_path))\n",
    "    \n",
    "    albert_base_configuration = AlbertConfig(**plbert_config['model_params'], vocab_size=len(symbols))\n",
    "    bert = CustomAlbert(albert_base_configuration)\n",
    "\n",
    "    checkpoint = torch.load(model_path, map_location='cpu')\n",
    "    state_dict = checkpoint['net']\n",
    "    from collections import OrderedDict\n",
    "    new_state_dict = OrderedDict()\n",
    "    for k, v in state_dict.items():\n",
    "        name = k.replace('module.', '')\n",
    "        if name.startswith('encoder.'):\n",
    "            name = name.replace('encoder.', '')\n",
    "            new_state_dict[name] = v\n",
    "    if \"embeddings.position_ids\" in new_state_dict: del new_state_dict[\"embeddings.position_ids\"]\n",
    "    bert.load_state_dict(new_state_dict, strict=False)\n",
    "    \n",
    "    return bert\n",
    "\n",
    "def load_plbert(repo_id, dirname):\n",
    "    config_path = hf_hub_download(\n",
    "        repo_id=repo_id,\n",
    "        filename=f\"{dirname}/config.yml\",\n",
    "        repo_type=\"model\", \n",
    "    )\n",
    "    \n",
    "    model_path = hf_hub_download(\n",
    "        repo_id=repo_id,\n",
    "        filename=f\"{dirname}/model.pth\",\n",
    "        repo_type=\"model\",\n",
    "    )\n",
    "\n",
    "    return _load_plbert(config_path, model_path)\n",
    "\n",
    "bert_model = load_plbert(\"fadi77/pl-bert\", \"models/mlm_only_with_diacritics\")"
   ]
  },
  {
   "cell_type": "code",
   "execution_count": 24,
   "id": "aa8f4c54",
   "metadata": {},
   "outputs": [
    {
     "name": "stdout",
     "output_type": "stream",
     "text": [
      "CustomAlbert(\n",
      "  (embeddings): AlbertEmbeddings(\n",
      "    (word_embeddings): Embedding(188, 128, padding_idx=0)\n",
      "    (position_embeddings): Embedding(512, 128)\n",
      "    (token_type_embeddings): Embedding(2, 128)\n",
      "    (LayerNorm): LayerNorm((128,), eps=1e-12, elementwise_affine=True)\n",
      "    (dropout): Dropout(p=0, inplace=False)\n",
      "  )\n",
      "  (encoder): AlbertTransformer(\n",
      "    (embedding_hidden_mapping_in): Linear(in_features=128, out_features=768, bias=True)\n",
      "    (albert_layer_groups): ModuleList(\n",
      "      (0): AlbertLayerGroup(\n",
      "        (albert_layers): ModuleList(\n",
      "          (0): AlbertLayer(\n",
      "            (full_layer_layer_norm): LayerNorm((768,), eps=1e-12, elementwise_affine=True)\n",
      "            (attention): AlbertSdpaAttention(\n",
      "              (query): Linear(in_features=768, out_features=768, bias=True)\n",
      "              (key): Linear(in_features=768, out_features=768, bias=True)\n",
      "              (value): Linear(in_features=768, out_features=768, bias=True)\n",
      "              (attention_dropout): Dropout(p=0, inplace=False)\n",
      "              (output_dropout): Dropout(p=0, inplace=False)\n",
      "              (dense): Linear(in_features=768, out_features=768, bias=True)\n",
      "              (LayerNorm): LayerNorm((768,), eps=1e-12, elementwise_affine=True)\n",
      "            )\n",
      "            (ffn): Linear(in_features=768, out_features=2048, bias=True)\n",
      "            (ffn_output): Linear(in_features=2048, out_features=768, bias=True)\n",
      "            (activation): NewGELUActivation()\n",
      "            (dropout): Dropout(p=0, inplace=False)\n",
      "          )\n",
      "        )\n",
      "      )\n",
      "    )\n",
      "  )\n",
      "  (pooler): Linear(in_features=768, out_features=768, bias=True)\n",
      "  (pooler_activation): Tanh()\n",
      ")\n"
     ]
    }
   ],
   "source": [
    "print(bert_model)"
   ]
  },
  {
   "cell_type": "code",
   "execution_count": null,
   "id": "d1355e6c",
   "metadata": {},
   "outputs": [],
   "source": []
  }
 ],
 "metadata": {
  "kernelspec": {
   "display_name": "tf_pyT",
   "language": "python",
   "name": "python3"
  },
  "language_info": {
   "codemirror_mode": {
    "name": "ipython",
    "version": 3
   },
   "file_extension": ".py",
   "mimetype": "text/x-python",
   "name": "python",
   "nbconvert_exporter": "python",
   "pygments_lexer": "ipython3",
   "version": "3.12.3"
  }
 },
 "nbformat": 4,
 "nbformat_minor": 5
}
