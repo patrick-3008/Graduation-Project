{
 "cells": [
  {
   "cell_type": "code",
   "execution_count": 2,
   "metadata": {},
   "outputs": [
    {
     "data": {
      "text/plain": [
       "'NVIDIA GeForce GTX 1660 SUPER'"
      ]
     },
     "execution_count": 2,
     "metadata": {},
     "output_type": "execute_result"
    }
   ],
   "source": [
    "import torch\n",
    "torch.cuda.is_available()\n",
    "torch.cuda.device_count()\n",
    "torch.cuda.current_device()\n",
    "torch.cuda.device(0)\n",
    "torch.cuda.get_device_name(0)"
   ]
  },
  {
   "cell_type": "code",
   "execution_count": 4,
   "metadata": {},
   "outputs": [],
   "source": [
    "dataset_file_path = 'D:/Datasets/arabic-audio/data'"
   ]
  },
  {
   "cell_type": "code",
   "execution_count": null,
   "metadata": {},
   "outputs": [],
   "source": [
    "import os\n",
    "import random\n",
    "import shutil\n",
    "\n",
    "\n",
    "destination_dir = 'C:/Users/Patrickn/Jupyter_notebooks/Graduation/Dataset/sample_data'\n",
    "os.makedirs(destination_dir, exist_ok=True)\n",
    "\n",
    "audio_files = [f for f in os.listdir(dataset_file_path) if f.lower().endswith(('.mp3', '.wav', '.flac', '.ogg', '.aac'))]\n",
    "\n",
    "# Ensure there are enough files to sample from\n",
    "if len(audio_files) < 5000:\n",
    "    raise ValueError(f\"Not enough audio files to sample from. Found only {len(audio_files)} files.\")\n",
    "\n",
    "# Randomly select 5000 files\n",
    "selected_files = random.sample(audio_files, 5000)\n",
    "\n",
    "# Copy the selected files to the destination directory\n",
    "for file in selected_files:\n",
    "    src_path = os.path.join(dataset_file_path, file)\n",
    "    dest_path = os.path.join(destination_dir, file)\n",
    "    shutil.copy2(src_path, dest_path)  # copy2 preserves metadata\n",
    "\n",
    "print(f\"Successfully copied 5000 audio files to {destination_dir}.\")\n"
   ]
  }
 ],
 "metadata": {
  "kernelspec": {
   "display_name": "tf_pyT",
   "language": "python",
   "name": "python3"
  },
  "language_info": {
   "codemirror_mode": {
    "name": "ipython",
    "version": 3
   },
   "file_extension": ".py",
   "mimetype": "text/x-python",
   "name": "python",
   "nbconvert_exporter": "python",
   "pygments_lexer": "ipython3",
   "version": "3.12.3"
  }
 },
 "nbformat": 4,
 "nbformat_minor": 2
}
