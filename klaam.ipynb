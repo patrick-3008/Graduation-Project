{
 "cells": [
  {
   "cell_type": "code",
   "execution_count": 1,
   "metadata": {},
   "outputs": [
    {
     "name": "stdout",
     "output_type": "stream",
     "text": [
      "c:\\Users\\Patrickn\\Jupyter_notebooks\\Graduation\\klaam\n"
     ]
    },
    {
     "name": "stderr",
     "output_type": "stream",
     "text": [
      "fatal: destination path 'klaam' already exists and is not an empty directory.\n"
     ]
    }
   ],
   "source": [
    "!git clone https://github.com/ARBML/klaam\n",
    "%cd klaam"
   ]
  },
  {
   "cell_type": "code",
   "execution_count": 2,
   "metadata": {},
   "outputs": [],
   "source": [
    "from IPython.display import Audio \n",
    "audio = Audio('recorded_audio.wav', autoplay=True, rate=16000)"
   ]
  },
  {
   "cell_type": "code",
   "execution_count": 3,
   "metadata": {},
   "outputs": [
    {
     "name": "stdout",
     "output_type": "stream",
     "text": [
      " Volume in drive C has no label.\n",
      " Volume Serial Number is DAB6-B0D3\n",
      "\n",
      " Directory of c:\\Users\\Patrickn\\Jupyter_notebooks\\Graduation\\klaam\n",
      "\n",
      "11/26/2024  06:26 PM    <DIR>          .\n",
      "11/26/2024  06:04 PM    <DIR>          ..\n",
      "11/26/2024  06:06 PM    <DIR>          .envs\n",
      "11/26/2024  06:06 PM    <DIR>          .github\n",
      "11/26/2024  06:06 PM               131 .gitignore\n",
      "11/26/2024  06:06 PM             1,256 .pre-commit-config.yaml\n",
      "11/26/2024  06:06 PM    <DIR>          cfgs\n",
      "11/26/2024  06:06 PM    <DIR>          ckpts\n",
      "11/26/2024  06:06 PM    <DIR>          data\n",
      "11/26/2024  06:06 PM             1,771 install.sh\n",
      "11/26/2024  06:07 PM    <DIR>          klaam\n",
      "11/26/2024  06:06 PM             1,083 LICENSE\n",
      "11/26/2024  06:06 PM    <DIR>          misc\n",
      "11/26/2024  06:06 PM    <DIR>          notebooks\n",
      "11/26/2024  06:06 PM    <DIR>          output\n",
      "11/26/2024  06:06 PM             2,048 pyproject.toml\n",
      "11/26/2024  06:06 PM               273 pytest.ini\n",
      "11/26/2024  06:06 PM             9,444 README.md\n",
      "11/17/2024  03:15 PM         1,764,044 recorded_audio.wav\n",
      "11/26/2024  06:06 PM               140 requirements.txt\n",
      "11/26/2024  06:06 PM    <DIR>          samples\n",
      "11/26/2024  06:06 PM    <DIR>          scripts\n",
      "11/26/2024  06:06 PM    <DIR>          tests\n",
      "               9 File(s)      1,780,190 bytes\n",
      "              14 Dir(s)  443,295,989,760 bytes free\n"
     ]
    }
   ],
   "source": [
    "%ls"
   ]
  },
  {
   "cell_type": "code",
   "execution_count": 4,
   "metadata": {},
   "outputs": [
    {
     "name": "stderr",
     "output_type": "stream",
     "text": [
      "c:\\Users\\Patrickn\\.conda\\envs\\asr\\lib\\site-packages\\tqdm\\auto.py:21: TqdmWarning: IProgress not found. Please update jupyter and ipywidgets. See https://ipywidgets.readthedocs.io/en/stable/user_install.html\n",
      "  from .autonotebook import tqdm as notebook_tqdm\n",
      "c:\\Users\\Patrickn\\.conda\\envs\\asr\\lib\\site-packages\\transformers\\configuration_utils.py:306: UserWarning: Passing `gradient_checkpointing` to a config initialization is deprecated and will be removed in v5 Transformers. Using `model.gradient_checkpointing_enable()` instead, or if you are using the `Trainer` API, pass `gradient_checkpointing=True` in your `TrainingArguments`.\n",
      "  warnings.warn(\n"
     ]
    },
    {
     "name": "stdout",
     "output_type": "stream",
     "text": [
      "translating...\n"
     ]
    },
    {
     "data": {
      "text/plain": [
       "'خل بانك إجريمين صرعة بسرعة له هيضرابك هيا اله مط من ع صلوة اع ال هو راية'"
      ]
     },
     "execution_count": 4,
     "metadata": {},
     "output_type": "execute_result"
    }
   ],
   "source": [
    "from klaam import SpeechRecognition\n",
    "model = SpeechRecognition()\n",
    "print('translating...')\n",
    "model.transcribe('C:/Users/Patrickn/Jupyter_notebooks/Graduation/klaam/recorded_audio.wav')"
   ]
  },
  {
   "cell_type": "code",
   "execution_count": null,
   "metadata": {},
   "outputs": [],
   "source": []
  }
 ],
 "metadata": {
  "kernelspec": {
   "display_name": "asr",
   "language": "python",
   "name": "python3"
  },
  "language_info": {
   "codemirror_mode": {
    "name": "ipython",
    "version": 3
   },
   "file_extension": ".py",
   "mimetype": "text/x-python",
   "name": "python",
   "nbconvert_exporter": "python",
   "pygments_lexer": "ipython3",
   "version": "3.9.20"
  }
 },
 "nbformat": 4,
 "nbformat_minor": 2
}
