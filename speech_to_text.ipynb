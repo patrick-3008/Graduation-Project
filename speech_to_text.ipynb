{
 "cells": [
  {
   "cell_type": "code",
   "execution_count": 90,
   "metadata": {},
   "outputs": [],
   "source": [
    "import torch\n",
    "import torchaudio\n",
    "from transformers import Wav2Vec2ForCTC, Wav2Vec2Processor, AutoProcessor, AutoModelForCTC\n",
    "\n",
    "import onnxruntime\n",
    "from onnxruntime.quantization import quantize_dynamic, QuantType\n",
    "import numpy as np"
   ]
  },
  {
   "cell_type": "code",
   "execution_count": 91,
   "metadata": {},
   "outputs": [
    {
     "name": "stdout",
     "output_type": "stream",
     "text": [
      "Recording...\n",
      "Recording finished.\n",
      "Audio saved as recorded_audio.wav\n"
     ]
    }
   ],
   "source": [
    "import sounddevice as sd\n",
    "import numpy as np\n",
    "import wave\n",
    "\n",
    "# Parameters\n",
    "samplerate = 44100  # Standard sampling rate (44.1kHz)\n",
    "duration = 10  # Duration in seconds to record\n",
    "filename = \"recorded_audio.wav\"  # Output file name\n",
    "\n",
    "# Record audio\n",
    "print(\"Recording...\")\n",
    "audio_data = sd.rec(int(samplerate * duration), samplerate=samplerate, channels=2, dtype='int16')\n",
    "sd.wait()  # Wait until recording is finished\n",
    "print(\"Recording finished.\")\n",
    "\n",
    "# Save the recorded audio to a .wav file\n",
    "with wave.open(filename, 'wb') as wf:\n",
    "    wf.setnchannels(2)  # Stereo\n",
    "    wf.setsampwidth(2)  # 2 bytes for 'int16'\n",
    "    wf.setframerate(samplerate)\n",
    "    wf.writeframes(audio_data.tobytes())\n",
    "\n",
    "print(f\"Audio saved as {filename}\")\n"
   ]
  },
  {
   "cell_type": "code",
   "execution_count": 92,
   "metadata": {},
   "outputs": [],
   "source": [
    "processor = AutoProcessor.from_pretrained(\"arbml/wav2vec2-large-xlsr-53-arabic-egyptian\")\n",
    "model = AutoModelForCTC.from_pretrained(\"arbml/wav2vec2-large-xlsr-53-arabic-egyptian\")"
   ]
  },
  {
   "cell_type": "code",
   "execution_count": 93,
   "metadata": {},
   "outputs": [
    {
     "name": "stdout",
     "output_type": "stream",
     "text": [
      "Original audio length (samples): 160000\n"
     ]
    }
   ],
   "source": [
    "import torch\n",
    "import torchaudio\n",
    "import numpy as np\n",
    "from transformers import Wav2Vec2ForCTC, Wav2Vec2Processor\n",
    "\n",
    "audio_path = \"recorded_audio.wav\"\n",
    "speech_array, sampling_rate = torchaudio.load(audio_path)\n",
    "\n",
    "# Check if audio is stereo (2 channels) and convert to mono if necessary\n",
    "if speech_array.shape[0] > 1:  # If there are more than 1 channel (stereo)\n",
    "    speech_array = torch.mean(speech_array, dim=0)  # Convert to mono by averaging channels\n",
    "\n",
    "\n",
    "# Resample the audio to 16 kHz if it's not already at that sample rate\n",
    "resampler = torchaudio.transforms.Resample(sampling_rate, 16_000)\n",
    "speech_array = resampler(speech_array).squeeze().numpy()  # Convert to 1D array (mono)\n",
    "\n",
    "# Check the length of the audio\n",
    "audio_length = len(speech_array)\n",
    "print(f\"Original audio length (samples): {audio_length}\")"
   ]
  },
  {
   "cell_type": "code",
   "execution_count": 94,
   "metadata": {},
   "outputs": [],
   "source": [
    "# Define the desired duration in seconds and calculate expected length\n",
    "desired_duration_sec = 10  # Example: 10 seconds\n",
    "expected_length = 16_000 * desired_duration_sec  # 16,000 samples per second at 16 kHz\n",
    "\n",
    "# If the audio is shorter than the expected length, pad with zeros\n",
    "if len(speech_array) < expected_length:\n",
    "    speech_array = np.pad(speech_array, (0, expected_length - len(speech_array)), 'constant')\n",
    "# If the audio is longer than the expected length, truncate it\n",
    "elif len(speech_array) > expected_length:\n",
    "    speech_array = speech_array[:expected_length]\n",
    "\n",
    "# Ensure it's a 1D array and convert to a tensor\n",
    "speech_array = torch.tensor(speech_array).unsqueeze(0)"
   ]
  },
  {
   "cell_type": "code",
   "execution_count": 95,
   "metadata": {},
   "outputs": [
    {
     "name": "stderr",
     "output_type": "stream",
     "text": [
      "It is strongly recommended to pass the ``sampling_rate`` argument to this function. Failing to do so can result in silent errors that might be hard to debug.\n"
     ]
    },
    {
     "name": "stdout",
     "output_type": "stream",
     "text": [
      "Transcription: خل بالك إجريمين صرعة بشرعة ده هيضرابك هياء اله مط من عصلوت اع ال هو راية وهتلسكين أمان نو عالموج\n"
     ]
    }
   ],
   "source": [
    "# Process the audio\n",
    "input_values = processor(speech_array.squeeze().numpy(), return_tensors=\"pt\").input_values\n",
    "\n",
    "# Perform speech-to-text (inference)\n",
    "with torch.no_grad():\n",
    "    logits = model(input_values).logits\n",
    "\n",
    "# Decode the logits to text\n",
    "predicted_ids = torch.argmax(logits, dim=-1)\n",
    "transcription = processor.decode(predicted_ids[0])\n",
    "\n",
    "print(\"Transcription:\", transcription)"
   ]
  },
  {
   "cell_type": "code",
   "execution_count": null,
   "metadata": {},
   "outputs": [],
   "source": []
  }
 ],
 "metadata": {
  "kernelspec": {
   "display_name": "pyTorch_gpu",
   "language": "python",
   "name": "python3"
  },
  "language_info": {
   "codemirror_mode": {
    "name": "ipython",
    "version": 3
   },
   "file_extension": ".py",
   "mimetype": "text/x-python",
   "name": "python",
   "nbconvert_exporter": "python",
   "pygments_lexer": "ipython3",
   "version": "3.9.19"
  }
 },
 "nbformat": 4,
 "nbformat_minor": 2
}
